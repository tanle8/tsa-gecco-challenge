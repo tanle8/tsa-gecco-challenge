{
 "cells": [
  {
   "cell_type": "code",
   "execution_count": null,
   "metadata": {},
   "outputs": [],
   "source": [
    "import numpy as np\n",
    "import pandas as pd\n",
    "import matplotlib.pyplot as plt\n",
    "from sklearn.preprocessing import MinMaxScaler\n",
    "import tensorflow as tf\n",
    "from tensorflow.keras.models import Sequential\n",
    "from tensorflow.keras.layers import LSTM, Dense, RepeatVector, TimeDistributed\n",
    "import warnings\n",
    "warnings.filterwarnings('ignore', category=pd.errors.PerformanceWarning)\n",
    "warnings.filterwarnings('ignore', category=UserWarning, module='matplotlib')\n",
    "warnings.filterwarnings('ignore', category=np.ComplexWarning)"
   ]
  },
  {
   "cell_type": "code",
   "execution_count": null,
   "metadata": {},
   "outputs": [],
   "source": [
    "data_path = \"../data/raw/waterDataTraining.csv\"\n",
    "df = pd.read_csv(data_path)\n",
    "df.head(5)"
   ]
  },
  {
   "cell_type": "code",
   "execution_count": null,
   "metadata": {},
   "outputs": [],
   "source": [
    "def data_preprocessing(df, columns_to_drop):\n",
    "    processed_df = df.copy()\n",
    "    processed_df['Time'] = pd.to_datetime(processed_df['Time'])\n",
    "    processed_df.set_index('Time', inplace=True)\n",
    "    processed_df.drop(columns=columns_to_drop, inplace=True)\n",
    "    processed_df['pH'].interpolate(method='time', inplace=True)\n",
    "    \n",
    "    return processed_df"
   ]
  },
  {
   "cell_type": "code",
   "execution_count": null,
   "metadata": {},
   "outputs": [],
   "source": [
    "columns_to_drop = ['Tp', 'Cl', 'Redox', 'Leit', 'Trueb', 'Cl_2', 'Fm','Fm_2']\n",
    "data = data_preprocessing(df, columns_to_drop)"
   ]
  },
  {
   "cell_type": "code",
   "execution_count": null,
   "metadata": {},
   "outputs": [],
   "source": [
    "scaler = MinMaxScaler()\n",
    "\n",
    "data['pH_normalized'] = scaler.fit_transform(data[['pH']])"
   ]
  },
  {
   "cell_type": "code",
   "execution_count": null,
   "metadata": {},
   "outputs": [],
   "source": [
    "def create_sequences(data, seq_length):\n",
    "    sequences = []\n",
    "    for i in range(len(data) - seq_length):\n",
    "        sequences.append(data[i: i + seq_length])\n",
    "    return np.array(sequences)\n",
    "\n",
    "sequence_length = 10\n",
    "ph_series = data['pH_normalized'].values\n",
    "sequences = create_sequences(ph_series, sequence_length)\n",
    "\n",
    "train_size = int(len(sequences) * 0.8)\n",
    "train_sequences = sequences[:train_size]\n",
    "test_sequences = sequences[train_size:]"
   ]
  },
  {
   "cell_type": "code",
   "execution_count": null,
   "metadata": {},
   "outputs": [],
   "source": [
    "model = Sequential([\n",
    "    LSTM(50, activation='relu', input_shape=(sequence_length, 1), return_sequences=True),\n",
    "    LSTM(50, activation='relu', return_sequences=False),\n",
    "    RepeatVector(sequence_length),\n",
    "    LSTM(50, activation='relu', return_sequences=True),\n",
    "    LSTM(50, activation='relu', return_sequences=True),\n",
    "    TimeDistributed(Dense(1))\n",
    "])\n",
    "\n",
    "model.compile(optimizer='adam', loss='mse')\n",
    "\n",
    "model.summary()"
   ]
  },
  {
   "cell_type": "code",
   "execution_count": null,
   "metadata": {},
   "outputs": [],
   "source": [
    "X_train = train_sequences.reshape(-1, sequence_length, 1)\n",
    "X_test = test_sequences.reshape(-1, sequence_length, 1)\n",
    "\n",
    "history = model.fit(X_train, X_train, epochs=20, batch_size=32, validation_split=0.1)"
   ]
  },
  {
   "cell_type": "code",
   "execution_count": null,
   "metadata": {},
   "outputs": [],
   "source": [
    "train_reconstructions = model.predict(X_train)\n",
    "test_reconstructions = model.predict(X_test)\n",
    "\n",
    "train_errors = np.mean(np.abs(train_reconstructions - X_train), axis=1)\n",
    "test_errors = np.mean(np.abs(test_reconstructions - X_test), axis=1)\n",
    "\n",
    "threshold = np.mean(train_errors) + 2 * np.std(train_errors)\n",
    "\n",
    "test_anomalies = test_errors > threshold\n",
    "df['LSTM_Anomaly'] = np.concatenate((np.zeros(sequence_length), test_anomalies), axis=None)\n"
   ]
  },
  {
   "cell_type": "code",
   "execution_count": null,
   "metadata": {},
   "outputs": [],
   "source": [
    "def plot_anomalies(df):\n",
    "    plt.figure(figsize=(12, 6))\n",
    "    plt.plot(df.index, df['pH'], label='pH', color='blue')\n",
    "    plt.scatter(df.index[df['EVENT']], df['pH'][df['EVENT']], color='red', label='True Anomaly', zorder=5)\n",
    "    plt.scatter(df.index[df['LSTM_Anomaly']], df['pH'][df['LSTM_Anomaly']], facecolors='none', edgecolors='orange', label='LSTM Detected Anomaly', zorder=6)\n",
    "    plt.legend()\n",
    "    plt.title('LSTM Anomaly Detection')\n",
    "    plt.xlabel('Time')\n",
    "    plt.ylabel('pH')\n",
    "    plt.show()\n",
    "\n",
    "plot_anomalies(df)\n"
   ]
  }
 ],
 "metadata": {
  "kernelspec": {
   "display_name": "tf",
   "language": "python",
   "name": "python3"
  },
  "language_info": {
   "name": "python",
   "version": "3.11.9"
  }
 },
 "nbformat": 4,
 "nbformat_minor": 2
}
