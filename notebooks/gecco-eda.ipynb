{
 "cells": [
  {
   "cell_type": "markdown",
   "metadata": {},
   "source": [
    "# Gecco Challenge - Clean and EDA\n"
   ]
  },
  {
   "cell_type": "markdown",
   "metadata": {},
   "source": [
    "# Import Libraries"
   ]
  },
  {
   "cell_type": "code",
   "execution_count": 1,
   "metadata": {},
   "outputs": [],
   "source": [
    "import pandas as pd"
   ]
  },
  {
   "cell_type": "markdown",
   "metadata": {},
   "source": [
    "## Loading the data\n"
   ]
  },
  {
   "cell_type": "code",
   "execution_count": 2,
   "metadata": {},
   "outputs": [],
   "source": [
    "data_raw_path = \"../data/raw/waterDataTraining.csv\"\n",
    "\n",
    "# Load the dataset\n",
    "df = pd.read_csv(data_raw_path)"
   ]
  },
  {
   "cell_type": "markdown",
   "metadata": {},
   "source": [
    "## Data Inspection"
   ]
  },
  {
   "cell_type": "markdown",
   "metadata": {},
   "source": [
    "### Basic DIs"
   ]
  },
  {
   "cell_type": "code",
   "execution_count": 3,
   "metadata": {},
   "outputs": [
    {
     "data": {
      "text/html": [
       "<div>\n",
       "<style scoped>\n",
       "    .dataframe tbody tr th:only-of-type {\n",
       "        vertical-align: middle;\n",
       "    }\n",
       "\n",
       "    .dataframe tbody tr th {\n",
       "        vertical-align: top;\n",
       "    }\n",
       "\n",
       "    .dataframe thead th {\n",
       "        text-align: right;\n",
       "    }\n",
       "</style>\n",
       "<table border=\"1\" class=\"dataframe\">\n",
       "  <thead>\n",
       "    <tr style=\"text-align: right;\">\n",
       "      <th></th>\n",
       "      <th>Time</th>\n",
       "      <th>Tp</th>\n",
       "      <th>Cl</th>\n",
       "      <th>pH</th>\n",
       "      <th>Redox</th>\n",
       "      <th>Leit</th>\n",
       "      <th>Trueb</th>\n",
       "      <th>Cl_2</th>\n",
       "      <th>Fm</th>\n",
       "      <th>Fm_2</th>\n",
       "      <th>EVENT</th>\n",
       "    </tr>\n",
       "  </thead>\n",
       "  <tbody>\n",
       "    <tr>\n",
       "      <th>0</th>\n",
       "      <td>2016-08-03T09:49:00Z</td>\n",
       "      <td>6.5</td>\n",
       "      <td>0.17</td>\n",
       "      <td>8.36</td>\n",
       "      <td>749.0</td>\n",
       "      <td>211.0</td>\n",
       "      <td>0.011</td>\n",
       "      <td>0.118</td>\n",
       "      <td>1677.0</td>\n",
       "      <td>695.0</td>\n",
       "      <td>False</td>\n",
       "    </tr>\n",
       "    <tr>\n",
       "      <th>1</th>\n",
       "      <td>2016-08-03T09:50:00Z</td>\n",
       "      <td>6.5</td>\n",
       "      <td>0.17</td>\n",
       "      <td>8.36</td>\n",
       "      <td>749.0</td>\n",
       "      <td>211.0</td>\n",
       "      <td>0.011</td>\n",
       "      <td>0.118</td>\n",
       "      <td>1561.0</td>\n",
       "      <td>696.0</td>\n",
       "      <td>False</td>\n",
       "    </tr>\n",
       "    <tr>\n",
       "      <th>2</th>\n",
       "      <td>2016-08-03T09:51:00Z</td>\n",
       "      <td>6.5</td>\n",
       "      <td>0.17</td>\n",
       "      <td>8.35</td>\n",
       "      <td>749.0</td>\n",
       "      <td>211.0</td>\n",
       "      <td>0.011</td>\n",
       "      <td>0.117</td>\n",
       "      <td>1581.0</td>\n",
       "      <td>696.0</td>\n",
       "      <td>False</td>\n",
       "    </tr>\n",
       "    <tr>\n",
       "      <th>3</th>\n",
       "      <td>2016-08-03T09:52:00Z</td>\n",
       "      <td>6.5</td>\n",
       "      <td>0.17</td>\n",
       "      <td>8.35</td>\n",
       "      <td>749.0</td>\n",
       "      <td>211.0</td>\n",
       "      <td>0.011</td>\n",
       "      <td>0.118</td>\n",
       "      <td>1579.0</td>\n",
       "      <td>693.0</td>\n",
       "      <td>False</td>\n",
       "    </tr>\n",
       "    <tr>\n",
       "      <th>4</th>\n",
       "      <td>2016-08-03T09:53:00Z</td>\n",
       "      <td>6.5</td>\n",
       "      <td>0.17</td>\n",
       "      <td>8.35</td>\n",
       "      <td>749.0</td>\n",
       "      <td>211.0</td>\n",
       "      <td>0.011</td>\n",
       "      <td>0.118</td>\n",
       "      <td>1567.0</td>\n",
       "      <td>689.0</td>\n",
       "      <td>False</td>\n",
       "    </tr>\n",
       "  </tbody>\n",
       "</table>\n",
       "</div>"
      ],
      "text/plain": [
       "                   Time   Tp    Cl    pH  Redox   Leit  Trueb   Cl_2      Fm  \\\n",
       "0  2016-08-03T09:49:00Z  6.5  0.17  8.36  749.0  211.0  0.011  0.118  1677.0   \n",
       "1  2016-08-03T09:50:00Z  6.5  0.17  8.36  749.0  211.0  0.011  0.118  1561.0   \n",
       "2  2016-08-03T09:51:00Z  6.5  0.17  8.35  749.0  211.0  0.011  0.117  1581.0   \n",
       "3  2016-08-03T09:52:00Z  6.5  0.17  8.35  749.0  211.0  0.011  0.118  1579.0   \n",
       "4  2016-08-03T09:53:00Z  6.5  0.17  8.35  749.0  211.0  0.011  0.118  1567.0   \n",
       "\n",
       "    Fm_2  EVENT  \n",
       "0  695.0  False  \n",
       "1  696.0  False  \n",
       "2  696.0  False  \n",
       "3  693.0  False  \n",
       "4  689.0  False  "
      ]
     },
     "execution_count": 3,
     "metadata": {},
     "output_type": "execute_result"
    }
   ],
   "source": [
    "df.head()"
   ]
  },
  {
   "cell_type": "code",
   "execution_count": 4,
   "metadata": {},
   "outputs": [
    {
     "data": {
      "text/html": [
       "<div>\n",
       "<style scoped>\n",
       "    .dataframe tbody tr th:only-of-type {\n",
       "        vertical-align: middle;\n",
       "    }\n",
       "\n",
       "    .dataframe tbody tr th {\n",
       "        vertical-align: top;\n",
       "    }\n",
       "\n",
       "    .dataframe thead th {\n",
       "        text-align: right;\n",
       "    }\n",
       "</style>\n",
       "<table border=\"1\" class=\"dataframe\">\n",
       "  <thead>\n",
       "    <tr style=\"text-align: right;\">\n",
       "      <th></th>\n",
       "      <th>Time</th>\n",
       "      <th>Tp</th>\n",
       "      <th>Cl</th>\n",
       "      <th>pH</th>\n",
       "      <th>Redox</th>\n",
       "      <th>Leit</th>\n",
       "      <th>Trueb</th>\n",
       "      <th>Cl_2</th>\n",
       "      <th>Fm</th>\n",
       "      <th>Fm_2</th>\n",
       "      <th>EVENT</th>\n",
       "    </tr>\n",
       "  </thead>\n",
       "  <tbody>\n",
       "    <tr>\n",
       "      <th>139561</th>\n",
       "      <td>2016-11-08T07:50:00Z</td>\n",
       "      <td>10.1</td>\n",
       "      <td>0.16</td>\n",
       "      <td>8.41</td>\n",
       "      <td>762.0</td>\n",
       "      <td>189.0</td>\n",
       "      <td>0.023</td>\n",
       "      <td>0.105</td>\n",
       "      <td>1799.0</td>\n",
       "      <td>924.0</td>\n",
       "      <td>False</td>\n",
       "    </tr>\n",
       "    <tr>\n",
       "      <th>139562</th>\n",
       "      <td>2016-11-08T07:51:00Z</td>\n",
       "      <td>10.1</td>\n",
       "      <td>0.17</td>\n",
       "      <td>8.41</td>\n",
       "      <td>762.0</td>\n",
       "      <td>190.0</td>\n",
       "      <td>0.022</td>\n",
       "      <td>0.106</td>\n",
       "      <td>1835.0</td>\n",
       "      <td>927.0</td>\n",
       "      <td>False</td>\n",
       "    </tr>\n",
       "    <tr>\n",
       "      <th>139563</th>\n",
       "      <td>2016-11-08T07:52:00Z</td>\n",
       "      <td>10.1</td>\n",
       "      <td>0.17</td>\n",
       "      <td>8.41</td>\n",
       "      <td>762.0</td>\n",
       "      <td>190.0</td>\n",
       "      <td>0.022</td>\n",
       "      <td>0.106</td>\n",
       "      <td>1807.0</td>\n",
       "      <td>924.0</td>\n",
       "      <td>False</td>\n",
       "    </tr>\n",
       "    <tr>\n",
       "      <th>139564</th>\n",
       "      <td>2016-11-08T07:53:00Z</td>\n",
       "      <td>10.1</td>\n",
       "      <td>0.17</td>\n",
       "      <td>8.41</td>\n",
       "      <td>762.0</td>\n",
       "      <td>190.0</td>\n",
       "      <td>0.022</td>\n",
       "      <td>0.106</td>\n",
       "      <td>1799.0</td>\n",
       "      <td>930.0</td>\n",
       "      <td>False</td>\n",
       "    </tr>\n",
       "    <tr>\n",
       "      <th>139565</th>\n",
       "      <td>2016-11-08T07:54:00Z</td>\n",
       "      <td>10.1</td>\n",
       "      <td>0.17</td>\n",
       "      <td>8.41</td>\n",
       "      <td>762.0</td>\n",
       "      <td>189.0</td>\n",
       "      <td>0.022</td>\n",
       "      <td>0.106</td>\n",
       "      <td>1817.0</td>\n",
       "      <td>925.0</td>\n",
       "      <td>False</td>\n",
       "    </tr>\n",
       "  </tbody>\n",
       "</table>\n",
       "</div>"
      ],
      "text/plain": [
       "                        Time    Tp    Cl    pH  Redox   Leit  Trueb   Cl_2  \\\n",
       "139561  2016-11-08T07:50:00Z  10.1  0.16  8.41  762.0  189.0  0.023  0.105   \n",
       "139562  2016-11-08T07:51:00Z  10.1  0.17  8.41  762.0  190.0  0.022  0.106   \n",
       "139563  2016-11-08T07:52:00Z  10.1  0.17  8.41  762.0  190.0  0.022  0.106   \n",
       "139564  2016-11-08T07:53:00Z  10.1  0.17  8.41  762.0  190.0  0.022  0.106   \n",
       "139565  2016-11-08T07:54:00Z  10.1  0.17  8.41  762.0  189.0  0.022  0.106   \n",
       "\n",
       "            Fm   Fm_2  EVENT  \n",
       "139561  1799.0  924.0  False  \n",
       "139562  1835.0  927.0  False  \n",
       "139563  1807.0  924.0  False  \n",
       "139564  1799.0  930.0  False  \n",
       "139565  1817.0  925.0  False  "
      ]
     },
     "execution_count": 4,
     "metadata": {},
     "output_type": "execute_result"
    }
   ],
   "source": [
    "df.tail()"
   ]
  },
  {
   "cell_type": "code",
   "execution_count": 5,
   "metadata": {},
   "outputs": [
    {
     "name": "stdout",
     "output_type": "stream",
     "text": [
      "<class 'pandas.core.frame.DataFrame'>\n",
      "RangeIndex: 139566 entries, 0 to 139565\n",
      "Data columns (total 11 columns):\n",
      " #   Column  Non-Null Count   Dtype  \n",
      "---  ------  --------------   -----  \n",
      " 0   Time    139566 non-null  object \n",
      " 1   Tp      138522 non-null  float64\n",
      " 2   Cl      138521 non-null  float64\n",
      " 3   pH      138522 non-null  float64\n",
      " 4   Redox   138522 non-null  float64\n",
      " 5   Leit    138522 non-null  float64\n",
      " 6   Trueb   138522 non-null  float64\n",
      " 7   Cl_2    138522 non-null  float64\n",
      " 8   Fm      138522 non-null  float64\n",
      " 9   Fm_2    138522 non-null  float64\n",
      " 10  EVENT   139566 non-null  bool   \n",
      "dtypes: bool(1), float64(9), object(1)\n",
      "memory usage: 10.8+ MB\n"
     ]
    }
   ],
   "source": [
    "df.info()"
   ]
  },
  {
   "cell_type": "markdown",
   "metadata": {},
   "source": [
    "#### Summary statistics for numeric columns"
   ]
  },
  {
   "cell_type": "code",
   "execution_count": 6,
   "metadata": {},
   "outputs": [
    {
     "data": {
      "text/html": [
       "<div>\n",
       "<style scoped>\n",
       "    .dataframe tbody tr th:only-of-type {\n",
       "        vertical-align: middle;\n",
       "    }\n",
       "\n",
       "    .dataframe tbody tr th {\n",
       "        vertical-align: top;\n",
       "    }\n",
       "\n",
       "    .dataframe thead th {\n",
       "        text-align: right;\n",
       "    }\n",
       "</style>\n",
       "<table border=\"1\" class=\"dataframe\">\n",
       "  <thead>\n",
       "    <tr style=\"text-align: right;\">\n",
       "      <th></th>\n",
       "      <th>Tp</th>\n",
       "      <th>Cl</th>\n",
       "      <th>pH</th>\n",
       "      <th>Redox</th>\n",
       "      <th>Leit</th>\n",
       "      <th>Trueb</th>\n",
       "      <th>Cl_2</th>\n",
       "      <th>Fm</th>\n",
       "      <th>Fm_2</th>\n",
       "    </tr>\n",
       "  </thead>\n",
       "  <tbody>\n",
       "    <tr>\n",
       "      <th>count</th>\n",
       "      <td>138522.000000</td>\n",
       "      <td>138521.000000</td>\n",
       "      <td>138522.000000</td>\n",
       "      <td>138522.000000</td>\n",
       "      <td>138522.000000</td>\n",
       "      <td>138522.000000</td>\n",
       "      <td>138522.000000</td>\n",
       "      <td>138522.000000</td>\n",
       "      <td>138522.000000</td>\n",
       "    </tr>\n",
       "    <tr>\n",
       "      <th>mean</th>\n",
       "      <td>8.521406</td>\n",
       "      <td>0.165482</td>\n",
       "      <td>8.366416</td>\n",
       "      <td>752.899009</td>\n",
       "      <td>209.520998</td>\n",
       "      <td>0.019778</td>\n",
       "      <td>0.106099</td>\n",
       "      <td>1534.208891</td>\n",
       "      <td>927.728014</td>\n",
       "    </tr>\n",
       "    <tr>\n",
       "      <th>std</th>\n",
       "      <td>1.281314</td>\n",
       "      <td>0.010207</td>\n",
       "      <td>0.101624</td>\n",
       "      <td>12.945284</td>\n",
       "      <td>7.747497</td>\n",
       "      <td>0.005492</td>\n",
       "      <td>0.007132</td>\n",
       "      <td>208.171011</td>\n",
       "      <td>147.447430</td>\n",
       "    </tr>\n",
       "    <tr>\n",
       "      <th>min</th>\n",
       "      <td>0.000000</td>\n",
       "      <td>0.000000</td>\n",
       "      <td>4.000000</td>\n",
       "      <td>300.000000</td>\n",
       "      <td>0.000000</td>\n",
       "      <td>0.000000</td>\n",
       "      <td>0.000000</td>\n",
       "      <td>0.000000</td>\n",
       "      <td>0.000000</td>\n",
       "    </tr>\n",
       "    <tr>\n",
       "      <th>25%</th>\n",
       "      <td>7.500000</td>\n",
       "      <td>0.160000</td>\n",
       "      <td>8.340000</td>\n",
       "      <td>751.000000</td>\n",
       "      <td>209.000000</td>\n",
       "      <td>0.016000</td>\n",
       "      <td>0.103000</td>\n",
       "      <td>1388.000000</td>\n",
       "      <td>847.000000</td>\n",
       "    </tr>\n",
       "    <tr>\n",
       "      <th>50%</th>\n",
       "      <td>8.400000</td>\n",
       "      <td>0.170000</td>\n",
       "      <td>8.370000</td>\n",
       "      <td>754.000000</td>\n",
       "      <td>211.000000</td>\n",
       "      <td>0.018000</td>\n",
       "      <td>0.106000</td>\n",
       "      <td>1512.000000</td>\n",
       "      <td>925.000000</td>\n",
       "    </tr>\n",
       "    <tr>\n",
       "      <th>75%</th>\n",
       "      <td>9.500000</td>\n",
       "      <td>0.170000</td>\n",
       "      <td>8.390000</td>\n",
       "      <td>756.000000</td>\n",
       "      <td>211.000000</td>\n",
       "      <td>0.023000</td>\n",
       "      <td>0.110000</td>\n",
       "      <td>1650.000000</td>\n",
       "      <td>1000.000000</td>\n",
       "    </tr>\n",
       "    <tr>\n",
       "      <th>max</th>\n",
       "      <td>11.800000</td>\n",
       "      <td>0.800000</td>\n",
       "      <td>8.936228</td>\n",
       "      <td>895.000000</td>\n",
       "      <td>646.000000</td>\n",
       "      <td>0.254000</td>\n",
       "      <td>0.462000</td>\n",
       "      <td>3923.000000</td>\n",
       "      <td>2592.000000</td>\n",
       "    </tr>\n",
       "  </tbody>\n",
       "</table>\n",
       "</div>"
      ],
      "text/plain": [
       "                  Tp             Cl             pH          Redox  \\\n",
       "count  138522.000000  138521.000000  138522.000000  138522.000000   \n",
       "mean        8.521406       0.165482       8.366416     752.899009   \n",
       "std         1.281314       0.010207       0.101624      12.945284   \n",
       "min         0.000000       0.000000       4.000000     300.000000   \n",
       "25%         7.500000       0.160000       8.340000     751.000000   \n",
       "50%         8.400000       0.170000       8.370000     754.000000   \n",
       "75%         9.500000       0.170000       8.390000     756.000000   \n",
       "max        11.800000       0.800000       8.936228     895.000000   \n",
       "\n",
       "                Leit          Trueb           Cl_2             Fm  \\\n",
       "count  138522.000000  138522.000000  138522.000000  138522.000000   \n",
       "mean      209.520998       0.019778       0.106099    1534.208891   \n",
       "std         7.747497       0.005492       0.007132     208.171011   \n",
       "min         0.000000       0.000000       0.000000       0.000000   \n",
       "25%       209.000000       0.016000       0.103000    1388.000000   \n",
       "50%       211.000000       0.018000       0.106000    1512.000000   \n",
       "75%       211.000000       0.023000       0.110000    1650.000000   \n",
       "max       646.000000       0.254000       0.462000    3923.000000   \n",
       "\n",
       "                Fm_2  \n",
       "count  138522.000000  \n",
       "mean      927.728014  \n",
       "std       147.447430  \n",
       "min         0.000000  \n",
       "25%       847.000000  \n",
       "50%       925.000000  \n",
       "75%      1000.000000  \n",
       "max      2592.000000  "
      ]
     },
     "execution_count": 6,
     "metadata": {},
     "output_type": "execute_result"
    }
   ],
   "source": [
    "df.describe()"
   ]
  },
  {
   "cell_type": "code",
   "execution_count": 7,
   "metadata": {},
   "outputs": [
    {
     "data": {
      "text/plain": [
       "(139566, 11)"
      ]
     },
     "execution_count": 7,
     "metadata": {},
     "output_type": "execute_result"
    }
   ],
   "source": [
    "df.shape"
   ]
  },
  {
   "cell_type": "code",
   "execution_count": 12,
   "metadata": {},
   "outputs": [
    {
     "data": {
      "text/plain": [
       "Index(['Time', 'Tp', 'Cl', 'pH', 'Redox', 'Leit', 'Trueb', 'Cl_2', 'Fm',\n",
       "       'Fm_2', 'EVENT'],\n",
       "      dtype='object')"
      ]
     },
     "execution_count": 12,
     "metadata": {},
     "output_type": "execute_result"
    }
   ],
   "source": [
    "df.columns"
   ]
  },
  {
   "cell_type": "code",
   "execution_count": 13,
   "metadata": {},
   "outputs": [
    {
     "data": {
      "text/plain": [
       "Time      object\n",
       "Tp       float64\n",
       "Cl       float64\n",
       "pH       float64\n",
       "Redox    float64\n",
       "Leit     float64\n",
       "Trueb    float64\n",
       "Cl_2     float64\n",
       "Fm       float64\n",
       "Fm_2     float64\n",
       "EVENT       bool\n",
       "dtype: object"
      ]
     },
     "execution_count": 13,
     "metadata": {},
     "output_type": "execute_result"
    }
   ],
   "source": [
    "df.dtypes"
   ]
  },
  {
   "cell_type": "markdown",
   "metadata": {},
   "source": [
    "#### Checking for Missing Values"
   ]
  },
  {
   "cell_type": "code",
   "execution_count": 14,
   "metadata": {},
   "outputs": [
    {
     "data": {
      "text/plain": [
       "Time        0\n",
       "Tp       1044\n",
       "Cl       1045\n",
       "pH       1044\n",
       "Redox    1044\n",
       "Leit     1044\n",
       "Trueb    1044\n",
       "Cl_2     1044\n",
       "Fm       1044\n",
       "Fm_2     1044\n",
       "EVENT       0\n",
       "dtype: int64"
      ]
     },
     "execution_count": 14,
     "metadata": {},
     "output_type": "execute_result"
    }
   ],
   "source": [
    "df.isnull().sum()"
   ]
  },
  {
   "cell_type": "markdown",
   "metadata": {},
   "source": [
    "#### Plotting Basic Graphs"
   ]
  },
  {
   "cell_type": "code",
   "execution_count": null,
   "metadata": {},
   "outputs": [],
   "source": []
  }
 ],
 "metadata": {
  "kernelspec": {
   "display_name": "deep_env",
   "language": "python",
   "name": "python3"
  },
  "language_info": {
   "codemirror_mode": {
    "name": "ipython",
    "version": 3
   },
   "file_extension": ".py",
   "mimetype": "text/x-python",
   "name": "python",
   "nbconvert_exporter": "python",
   "pygments_lexer": "ipython3",
   "version": "3.11.9"
  }
 },
 "nbformat": 4,
 "nbformat_minor": 2
}
