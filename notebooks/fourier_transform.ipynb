{
 "cells": [
  {
   "cell_type": "code",
   "execution_count": 25,
   "metadata": {},
   "outputs": [
    {
     "data": {
      "text/latex": [
       "$\\displaystyle \\boxed{\\begin{array}{c}\n",
       "\\text{Fourier transform} \\\\[10pt]\n",
       "\\hat{f}(\\xi) = \\int_{-\\infty}^{\\infty} f(x) e^{-i 2 \\pi \\xi x} \\, dx \\quad\n",
       "\\end{array}}$"
      ],
      "text/plain": [
       "<IPython.core.display.Math object>"
      ]
     },
     "metadata": {},
     "output_type": "display_data"
    }
   ],
   "source": [
    "from IPython.display import display, Math\n",
    "\n",
    "fourier_transform = r\"\"\"\\boxed{\\begin{array}{c}\n",
    "\\text{Fourier transform} \\\\[10pt]\n",
    "\\hat{f}(\\xi) = \\int_{-\\infty}^{\\infty} f(x) e^{-i 2 \\pi \\xi x} \\, dx \\quad\n",
    "\\end{array}}\"\"\"\n",
    "\n",
    "display(Math(fourier_transform))\n"
   ]
  },
  {
   "cell_type": "code",
   "execution_count": 26,
   "metadata": {},
   "outputs": [],
   "source": [
    "import numpy as np\n",
    "import pandas as pd\n",
    "import matplotlib.pyplot as plt\n",
    "from sklearn.metrics import precision_score, recall_score, f1_score"
   ]
  },
  {
   "cell_type": "code",
   "execution_count": 27,
   "metadata": {},
   "outputs": [
    {
     "data": {
      "text/html": [
       "<div>\n",
       "<style scoped>\n",
       "    .dataframe tbody tr th:only-of-type {\n",
       "        vertical-align: middle;\n",
       "    }\n",
       "\n",
       "    .dataframe tbody tr th {\n",
       "        vertical-align: top;\n",
       "    }\n",
       "\n",
       "    .dataframe thead th {\n",
       "        text-align: right;\n",
       "    }\n",
       "</style>\n",
       "<table border=\"1\" class=\"dataframe\">\n",
       "  <thead>\n",
       "    <tr style=\"text-align: right;\">\n",
       "      <th></th>\n",
       "      <th>Time</th>\n",
       "      <th>Tp</th>\n",
       "      <th>Cl</th>\n",
       "      <th>pH</th>\n",
       "      <th>Redox</th>\n",
       "      <th>Leit</th>\n",
       "      <th>Trueb</th>\n",
       "      <th>Cl_2</th>\n",
       "      <th>Fm</th>\n",
       "      <th>Fm_2</th>\n",
       "      <th>EVENT</th>\n",
       "    </tr>\n",
       "  </thead>\n",
       "  <tbody>\n",
       "    <tr>\n",
       "      <th>0</th>\n",
       "      <td>2016-08-03T09:49:00Z</td>\n",
       "      <td>6.5</td>\n",
       "      <td>0.17</td>\n",
       "      <td>8.36</td>\n",
       "      <td>749.0</td>\n",
       "      <td>211.0</td>\n",
       "      <td>0.011</td>\n",
       "      <td>0.118</td>\n",
       "      <td>1677.0</td>\n",
       "      <td>695.0</td>\n",
       "      <td>False</td>\n",
       "    </tr>\n",
       "    <tr>\n",
       "      <th>1</th>\n",
       "      <td>2016-08-03T09:50:00Z</td>\n",
       "      <td>6.5</td>\n",
       "      <td>0.17</td>\n",
       "      <td>8.36</td>\n",
       "      <td>749.0</td>\n",
       "      <td>211.0</td>\n",
       "      <td>0.011</td>\n",
       "      <td>0.118</td>\n",
       "      <td>1561.0</td>\n",
       "      <td>696.0</td>\n",
       "      <td>False</td>\n",
       "    </tr>\n",
       "    <tr>\n",
       "      <th>2</th>\n",
       "      <td>2016-08-03T09:51:00Z</td>\n",
       "      <td>6.5</td>\n",
       "      <td>0.17</td>\n",
       "      <td>8.35</td>\n",
       "      <td>749.0</td>\n",
       "      <td>211.0</td>\n",
       "      <td>0.011</td>\n",
       "      <td>0.117</td>\n",
       "      <td>1581.0</td>\n",
       "      <td>696.0</td>\n",
       "      <td>False</td>\n",
       "    </tr>\n",
       "    <tr>\n",
       "      <th>3</th>\n",
       "      <td>2016-08-03T09:52:00Z</td>\n",
       "      <td>6.5</td>\n",
       "      <td>0.17</td>\n",
       "      <td>8.35</td>\n",
       "      <td>749.0</td>\n",
       "      <td>211.0</td>\n",
       "      <td>0.011</td>\n",
       "      <td>0.118</td>\n",
       "      <td>1579.0</td>\n",
       "      <td>693.0</td>\n",
       "      <td>False</td>\n",
       "    </tr>\n",
       "    <tr>\n",
       "      <th>4</th>\n",
       "      <td>2016-08-03T09:53:00Z</td>\n",
       "      <td>6.5</td>\n",
       "      <td>0.17</td>\n",
       "      <td>8.35</td>\n",
       "      <td>749.0</td>\n",
       "      <td>211.0</td>\n",
       "      <td>0.011</td>\n",
       "      <td>0.118</td>\n",
       "      <td>1567.0</td>\n",
       "      <td>689.0</td>\n",
       "      <td>False</td>\n",
       "    </tr>\n",
       "  </tbody>\n",
       "</table>\n",
       "</div>"
      ],
      "text/plain": [
       "                   Time   Tp    Cl    pH  Redox   Leit  Trueb   Cl_2      Fm  \\\n",
       "0  2016-08-03T09:49:00Z  6.5  0.17  8.36  749.0  211.0  0.011  0.118  1677.0   \n",
       "1  2016-08-03T09:50:00Z  6.5  0.17  8.36  749.0  211.0  0.011  0.118  1561.0   \n",
       "2  2016-08-03T09:51:00Z  6.5  0.17  8.35  749.0  211.0  0.011  0.117  1581.0   \n",
       "3  2016-08-03T09:52:00Z  6.5  0.17  8.35  749.0  211.0  0.011  0.118  1579.0   \n",
       "4  2016-08-03T09:53:00Z  6.5  0.17  8.35  749.0  211.0  0.011  0.118  1567.0   \n",
       "\n",
       "    Fm_2  EVENT  \n",
       "0  695.0  False  \n",
       "1  696.0  False  \n",
       "2  696.0  False  \n",
       "3  693.0  False  \n",
       "4  689.0  False  "
      ]
     },
     "execution_count": 27,
     "metadata": {},
     "output_type": "execute_result"
    }
   ],
   "source": [
    "data_path = \"../data/raw/waterDataTraining.csv\"\n",
    "df = pd.read_csv(data_path)\n",
    "df.head(5)"
   ]
  },
  {
   "cell_type": "code",
   "execution_count": 28,
   "metadata": {},
   "outputs": [
    {
     "name": "stderr",
     "output_type": "stream",
     "text": [
      "/var/folders/x9/wfxfy30n21j10t1dqkkhfjjm0000gn/T/ipykernel_2705/379880480.py:6: FutureWarning: A value is trying to be set on a copy of a DataFrame or Series through chained assignment using an inplace method.\n",
      "The behavior will change in pandas 3.0. This inplace method will never work because the intermediate object on which we are setting values always behaves as a copy.\n",
      "\n",
      "For example, when doing 'df[col].method(value, inplace=True)', try using 'df.method({col: value}, inplace=True)' or df[col] = df[col].method(value) instead, to perform the operation inplace on the original object.\n",
      "\n",
      "\n",
      "  processed_df['pH'].interpolate(method='time', inplace=True)\n"
     ]
    }
   ],
   "source": [
    "def data_preprocessing(df, columns_to_drop):\n",
    "    processed_df = df.copy()\n",
    "    processed_df['Time'] = pd.to_datetime(processed_df['Time'])\n",
    "    processed_df.set_index('Time', inplace=True)\n",
    "    processed_df.drop(columns=columns_to_drop, inplace=True)\n",
    "    processed_df['pH'].interpolate(method='time', inplace=True)\n",
    "    \n",
    "    return processed_df\n",
    "\n",
    "columns_to_drop = ['Tp', 'Cl', 'Redox', 'Leit', 'Trueb', 'Cl_2', 'Fm','Fm_2']\n",
    "processed_df = data_preprocessing(df, columns_to_drop)"
   ]
  },
  {
   "cell_type": "code",
   "execution_count": 29,
   "metadata": {},
   "outputs": [
    {
     "data": {
      "text/html": [
       "<div>\n",
       "<style scoped>\n",
       "    .dataframe tbody tr th:only-of-type {\n",
       "        vertical-align: middle;\n",
       "    }\n",
       "\n",
       "    .dataframe tbody tr th {\n",
       "        vertical-align: top;\n",
       "    }\n",
       "\n",
       "    .dataframe thead th {\n",
       "        text-align: right;\n",
       "    }\n",
       "</style>\n",
       "<table border=\"1\" class=\"dataframe\">\n",
       "  <thead>\n",
       "    <tr style=\"text-align: right;\">\n",
       "      <th></th>\n",
       "      <th>pH</th>\n",
       "      <th>EVENT</th>\n",
       "    </tr>\n",
       "    <tr>\n",
       "      <th>Time</th>\n",
       "      <th></th>\n",
       "      <th></th>\n",
       "    </tr>\n",
       "  </thead>\n",
       "  <tbody>\n",
       "    <tr>\n",
       "      <th>2016-08-03 09:49:00+00:00</th>\n",
       "      <td>8.36</td>\n",
       "      <td>False</td>\n",
       "    </tr>\n",
       "    <tr>\n",
       "      <th>2016-08-03 09:50:00+00:00</th>\n",
       "      <td>8.36</td>\n",
       "      <td>False</td>\n",
       "    </tr>\n",
       "    <tr>\n",
       "      <th>2016-08-03 09:51:00+00:00</th>\n",
       "      <td>8.35</td>\n",
       "      <td>False</td>\n",
       "    </tr>\n",
       "    <tr>\n",
       "      <th>2016-08-03 09:52:00+00:00</th>\n",
       "      <td>8.35</td>\n",
       "      <td>False</td>\n",
       "    </tr>\n",
       "    <tr>\n",
       "      <th>2016-08-03 09:53:00+00:00</th>\n",
       "      <td>8.35</td>\n",
       "      <td>False</td>\n",
       "    </tr>\n",
       "  </tbody>\n",
       "</table>\n",
       "</div>"
      ],
      "text/plain": [
       "                             pH  EVENT\n",
       "Time                                  \n",
       "2016-08-03 09:49:00+00:00  8.36  False\n",
       "2016-08-03 09:50:00+00:00  8.36  False\n",
       "2016-08-03 09:51:00+00:00  8.35  False\n",
       "2016-08-03 09:52:00+00:00  8.35  False\n",
       "2016-08-03 09:53:00+00:00  8.35  False"
      ]
     },
     "execution_count": 29,
     "metadata": {},
     "output_type": "execute_result"
    }
   ],
   "source": [
    "processed_df.head()"
   ]
  },
  {
   "cell_type": "code",
   "execution_count": 30,
   "metadata": {},
   "outputs": [],
   "source": [
    "from numpy.fft import fft\n",
    "\n",
    "pH_values = processed_df['pH'].values\n",
    "pH_fft = fft(pH_values)"
   ]
  },
  {
   "cell_type": "code",
   "execution_count": 31,
   "metadata": {},
   "outputs": [],
   "source": [
    "# Calculate the magnitudes\n",
    "magnitudes = np.abs(pH_fft)\n",
    "\n",
    "# Identify significant frequencies\n",
    "significant_freqs = np.argsort(magnitudes)[-10:]\n"
   ]
  },
  {
   "cell_type": "code",
   "execution_count": 32,
   "metadata": {},
   "outputs": [],
   "source": [
    "from numpy.fft import ifft\n",
    "\n",
    "# Zero out non-significant frequencies\n",
    "filtered_fft = np.copy(pH_fft)\n",
    "filtered_fft[~np.isin(np.arange(len(filtered_fft)), significant_freqs)] = 0\n",
    "\n",
    "# Inverse FFT to reconstruct the signal\n",
    "reconstructed_signal = ifft(filtered_fft)"
   ]
  },
  {
   "cell_type": "code",
   "execution_count": 33,
   "metadata": {},
   "outputs": [],
   "source": [
    "deviation = np.abs(pH_values - reconstructed_signal)\n",
    "\n",
    "# Use mean and standard deviation to define the threshold\n",
    "mean_deviation = np.mean(deviation)\n",
    "std_deviation = np.std(deviation)\n",
    "\n",
    "# Define the threshold\n",
    "threshold = mean_deviation + 2 * std_deviation\n",
    "\n",
    "# Identify anomalies\n",
    "anomalies = deviation > threshold\n",
    "\n",
    "# Update the DataFrame\n",
    "processed_df['FFT_Anomaly'] = anomalies\n"
   ]
  },
  {
   "cell_type": "code",
   "execution_count": 34,
   "metadata": {},
   "outputs": [],
   "source": [
    "# Compare original and reconstructed signals\n",
    "anomalies = np.abs(pH_values - reconstructed_signal) > threshold\n",
    "\n",
    "# Update the DataFrame\n",
    "processed_df['FFT_Anomaly'] = anomalies"
   ]
  },
  {
   "cell_type": "code",
   "execution_count": 37,
   "metadata": {},
   "outputs": [
    {
     "data": {
      "text/html": [
       "<div>\n",
       "<style scoped>\n",
       "    .dataframe tbody tr th:only-of-type {\n",
       "        vertical-align: middle;\n",
       "    }\n",
       "\n",
       "    .dataframe tbody tr th {\n",
       "        vertical-align: top;\n",
       "    }\n",
       "\n",
       "    .dataframe thead th {\n",
       "        text-align: right;\n",
       "    }\n",
       "</style>\n",
       "<table border=\"1\" class=\"dataframe\">\n",
       "  <thead>\n",
       "    <tr style=\"text-align: right;\">\n",
       "      <th></th>\n",
       "      <th>pH</th>\n",
       "      <th>EVENT</th>\n",
       "      <th>FFT_Anomaly</th>\n",
       "    </tr>\n",
       "    <tr>\n",
       "      <th>Time</th>\n",
       "      <th></th>\n",
       "      <th></th>\n",
       "      <th></th>\n",
       "    </tr>\n",
       "  </thead>\n",
       "  <tbody>\n",
       "    <tr>\n",
       "      <th>2016-08-03 09:49:00+00:00</th>\n",
       "      <td>8.36</td>\n",
       "      <td>False</td>\n",
       "      <td>False</td>\n",
       "    </tr>\n",
       "    <tr>\n",
       "      <th>2016-08-03 09:50:00+00:00</th>\n",
       "      <td>8.36</td>\n",
       "      <td>False</td>\n",
       "      <td>False</td>\n",
       "    </tr>\n",
       "    <tr>\n",
       "      <th>2016-08-03 09:51:00+00:00</th>\n",
       "      <td>8.35</td>\n",
       "      <td>False</td>\n",
       "      <td>False</td>\n",
       "    </tr>\n",
       "    <tr>\n",
       "      <th>2016-08-03 09:52:00+00:00</th>\n",
       "      <td>8.35</td>\n",
       "      <td>False</td>\n",
       "      <td>False</td>\n",
       "    </tr>\n",
       "    <tr>\n",
       "      <th>2016-08-03 09:53:00+00:00</th>\n",
       "      <td>8.35</td>\n",
       "      <td>False</td>\n",
       "      <td>False</td>\n",
       "    </tr>\n",
       "  </tbody>\n",
       "</table>\n",
       "</div>"
      ],
      "text/plain": [
       "                             pH  EVENT  FFT_Anomaly\n",
       "Time                                               \n",
       "2016-08-03 09:49:00+00:00  8.36  False        False\n",
       "2016-08-03 09:50:00+00:00  8.36  False        False\n",
       "2016-08-03 09:51:00+00:00  8.35  False        False\n",
       "2016-08-03 09:52:00+00:00  8.35  False        False\n",
       "2016-08-03 09:53:00+00:00  8.35  False        False"
      ]
     },
     "execution_count": 37,
     "metadata": {},
     "output_type": "execute_result"
    }
   ],
   "source": [
    "processed_df.head()"
   ]
  },
  {
   "cell_type": "code",
   "execution_count": 43,
   "metadata": {},
   "outputs": [
    {
     "data": {
      "image/png": "[encoded data removed]",
      "text/plain": [
       "<Figure size 1200x600 with 1 Axes>"
      ]
     },
     "metadata": {},
     "output_type": "display_data"
    }
   ],
   "source": [
    "def plot_fft_anomalies(df, original_signal, reconstructed_signal, anomalies):\n",
    "    plt.figure(figsize=(12, 6))\n",
    "    plt.plot(df.index, original_signal, label='Original pH', color='blue')\n",
    "    plt.plot(df.index, reconstructed_signal, label='Reconstructed pH', color='orange')\n",
    "    plt.scatter(df.index[df['EVENT']], df['pH'][df['EVENT']], color='green', label='True Anomaly', zorder=5)\n",
    "    plt.scatter(df.index[anomalies], original_signal[anomalies], facecolors='none', edgecolors='orange', label='Detected Anomaly', zorder=6)\n",
    "    plt.legend()\n",
    "    plt.title('Fourier Transform Anomaly Detection')\n",
    "    plt.xlabel('Time')\n",
    "    plt.ylabel('pH')\n",
    "    plt.show()\n",
    "\n",
    "plot_fft_anomalies(processed_df, pH_values, reconstructed_signal, anomalies)"
   ]
  },
  {
   "cell_type": "code",
   "execution_count": 38,
   "metadata": {},
   "outputs": [],
   "source": [
    "precision = precision_score(processed_df['EVENT'], processed_df['FFT_Anomaly'])\n",
    "recall = recall_score(processed_df['EVENT'], processed_df['FFT_Anomaly'])\n",
    "f1 = f1_score(processed_df['EVENT'], processed_df['FFT_Anomaly'])"
   ]
  },
  {
   "cell_type": "code",
   "execution_count": 40,
   "metadata": {},
   "outputs": [
    {
     "name": "stdout",
     "output_type": "stream",
     "text": [
      "0.8853383458646616 0.2728852838933951 0.4171833480956599\n"
     ]
    }
   ],
   "source": [
    "print(precision, recall, f1)"
   ]
  },
  {
   "cell_type": "code",
   "execution_count": null,
   "metadata": {},
   "outputs": [],
   "source": []
  }
 ],
 "metadata": {
  "kernelspec": {
   "display_name": "ml",
   "language": "python",
   "name": "python3"
  },
  "language_info": {
   "codemirror_mode": {
    "name": "ipython",
    "version": 3
   },
   "file_extension": ".py",
   "mimetype": "text/x-python",
   "name": "python",
   "nbconvert_exporter": "python",
   "pygments_lexer": "ipython3",
   "version": "3.10.13"
  }
 },
 "nbformat": 4,
 "nbformat_minor": 2
}
